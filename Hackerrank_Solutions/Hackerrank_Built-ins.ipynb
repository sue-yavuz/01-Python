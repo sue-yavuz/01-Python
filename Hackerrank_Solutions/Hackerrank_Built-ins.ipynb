{
 "cells": [
  {
   "attachments": {},
   "cell_type": "markdown",
   "metadata": {},
   "source": [
    "Zipped!"
   ]
  },
  {
   "cell_type": "code",
   "execution_count": null,
   "metadata": {},
   "outputs": [],
   "source": [
    "size, case = map(int, input().split())\n",
    "\n",
    "scores = []\n",
    "for _ in range(case):\n",
    "    scores.append(list(map(float, input().split())))\n",
    "    \n",
    "averages = [sum(student)/case for student in zip(*scores)]\n",
    "for avg in averages:\n",
    "    print('{:.1f}'.format(avg))"
   ]
  },
  {
   "attachments": {},
   "cell_type": "markdown",
   "metadata": {},
   "source": [
    "Any or All"
   ]
  },
  {
   "cell_type": "code",
   "execution_count": null,
   "metadata": {},
   "outputs": [],
   "source": [
    "n = int(input())\n",
    "a = list(input().split())\n",
    "\n",
    "if all(int(x)>0 for x in a) and any(x ==x[::-1] for x in a):\n",
    "    print ('True')\n",
    "else: \n",
    "    print('False')"
   ]
  },
  {
   "attachments": {},
   "cell_type": "markdown",
   "metadata": {},
   "source": [
    "Python Evaluation"
   ]
  },
  {
   "cell_type": "code",
   "execution_count": null,
   "metadata": {},
   "outputs": [],
   "source": [
    "\n",
    "eval(input())"
   ]
  },
  {
   "attachments": {},
   "cell_type": "markdown",
   "metadata": {},
   "source": [
    "Input()"
   ]
  },
  {
   "cell_type": "code",
   "execution_count": null,
   "metadata": {},
   "outputs": [],
   "source": [
    "x,y  = map(int, input().split())\n",
    "print(eval(input()) == y)"
   ]
  },
  {
   "attachments": {},
   "cell_type": "markdown",
   "metadata": {},
   "source": [
    "ginortS"
   ]
  },
  {
   "cell_type": "code",
   "execution_count": null,
   "metadata": {},
   "outputs": [],
   "source": [
    "def f(c):\n",
    "    code = 0\n",
    "    if c.isupper():\n",
    "        code = 10 ** 3\n",
    "    elif c.isdigit():\n",
    "        code = 10 ** 6\n",
    "        if ord(c) % 2 == 0:\n",
    "            code = 10 ** 9\n",
    "    return code + ord(c)\n",
    "\n",
    "print(*sorted(input(), key=lambda c: f(c)), sep='')"
   ]
  },
  {
   "cell_type": "markdown",
   "metadata": {},
   "source": []
  },
  {
   "cell_type": "code",
   "execution_count": null,
   "metadata": {},
   "outputs": [],
   "source": [
    "#!/bin/python3\n",
    "\n",
    "import math\n",
    "import os\n",
    "import random\n",
    "import re\n",
    "import sys\n",
    "\n",
    "\n",
    "\n",
    "if __name__ == '__main__':\n",
    "    nm = input().split()\n",
    "\n",
    "    n = int(nm[0])\n",
    "\n",
    "    m = int(nm[1])\n",
    "\n",
    "    arr = []\n",
    "\n",
    "    for _ in range(n):\n",
    "        arr.append(list(map(int, input().rstrip().split())))\n",
    "\n",
    "    k = int(input())\n",
    "\n",
    "    P=sorted(arr,key=lambda row:row[k])\n",
    "    for i in range(len(P)):\n",
    "        for j in range(len(P[i])):\n",
    "            print(P[i][j], end=' ')\n",
    "        print()"
   ]
  }
 ],
 "metadata": {
  "language_info": {
   "name": "python"
  },
  "orig_nbformat": 4
 },
 "nbformat": 4,
 "nbformat_minor": 2
}
