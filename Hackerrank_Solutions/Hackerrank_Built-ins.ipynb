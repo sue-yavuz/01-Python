{
 "cells": [
  {
   "attachments": {},
   "cell_type": "markdown",
   "metadata": {},
   "source": [
    "Zipped!"
   ]
  },
  {
   "cell_type": "code",
   "execution_count": null,
   "metadata": {},
   "outputs": [],
   "source": [
    "size, case = map(int, input().split())\n",
    "\n",
    "scores = []\n",
    "for _ in range(case):\n",
    "    scores.append(list(map(float, input().split())))\n",
    "    \n",
    "averages = [sum(student)/case for student in zip(*scores)]\n",
    "for avg in averages:\n",
    "    print('{:.1f}'.format(avg))"
   ]
  },
  {
   "cell_type": "markdown",
   "metadata": {},
   "source": []
  },
  {
   "cell_type": "code",
   "execution_count": null,
   "metadata": {},
   "outputs": [],
   "source": []
  }
 ],
 "metadata": {
  "language_info": {
   "name": "python"
  },
  "orig_nbformat": 4
 },
 "nbformat": 4,
 "nbformat_minor": 2
}
