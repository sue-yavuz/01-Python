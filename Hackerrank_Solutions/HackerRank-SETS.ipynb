{
 "cells": [
  {
   "attachments": {},
   "cell_type": "markdown",
   "metadata": {},
   "source": [
    "Introduction to Sets"
   ]
  },
  {
   "cell_type": "code",
   "execution_count": null,
   "metadata": {},
   "outputs": [],
   "source": [
    "def average(array):\n",
    "   \n",
    "    return sum(set(array))/len(set(array))\n",
    "    # your code goes here\n",
    "\n",
    "if __name__ == '__main__':\n",
    "    n = int(input())\n",
    "    arr = list(map(int, input().split()))\n",
    "    result = average(arr)\n",
    "    print(result)"
   ]
  },
  {
   "attachments": {},
   "cell_type": "markdown",
   "metadata": {},
   "source": [
    "Symmetric Difference"
   ]
  },
  {
   "cell_type": "code",
   "execution_count": null,
   "metadata": {},
   "outputs": [],
   "source": [
    "# Enter your code here. Read input from STDIN. Print output to STDOUT\n",
    "a = input()\n",
    "seta = set(map(int,input().split()))\n",
    "b = input()\n",
    "setb = set(map(int, input().split()))\n",
    "\n",
    "# result = seta.union(setb).difference( seta.intersection(setb) )\n",
    "# result = (seta | setb) - (seta & setb)\n",
    "result = seta.symmetric_difference(setb)\n",
    "\n",
    "print(*sorted(result),sep='\\n')"
   ]
  },
  {
   "attachments": {},
   "cell_type": "markdown",
   "metadata": {},
   "source": [
    "Set .add()"
   ]
  },
  {
   "cell_type": "code",
   "execution_count": null,
   "metadata": {},
   "outputs": [],
   "source": [
    "# Enter your code here. Read input from STDIN. Print output to STDOUT\n",
    "n = int(input())\n",
    "set1 = set()\n",
    "\n",
    "for i in range(n):\n",
    "    set1.add(input())\n",
    "print(len(set1))"
   ]
  },
  {
   "attachments": {},
   "cell_type": "markdown",
   "metadata": {},
   "source": [
    "Set .discard(), .remove() & .pop()"
   ]
  },
  {
   "cell_type": "code",
   "execution_count": null,
   "metadata": {},
   "outputs": [],
   "source": [
    "n = int(input())\n",
    "s = set(map(int, input().split()))\n",
    "\n",
    "num = int(input())\n",
    "\n",
    "for i in range(num):\n",
    "    inp = input().split()\n",
    "    \n",
    "    if inp[0] == 'pop':\n",
    "        s.pop()\n",
    "    elif inp[0] == 'remove':\n",
    "        s.remove(int(inp[1]))\n",
    "    elif inp[0] == 'discard':\n",
    "        s.discard(int(inp[1]))\n",
    "\n",
    "print(sum(s))"
   ]
  },
  {
   "attachments": {},
   "cell_type": "markdown",
   "metadata": {},
   "source": [
    "Set .union() Operation"
   ]
  },
  {
   "cell_type": "code",
   "execution_count": null,
   "metadata": {},
   "outputs": [],
   "source": [
    "# Enter your code here. Read input from STDIN. Print output to STDOUT\n",
    "a = input()\n",
    "seta = set(map(int, input().split()))\n",
    "\n",
    "b = input()\n",
    "setb = set(map(int, input().split()))\n",
    "\n",
    "# result = seta.union(setb)\n",
    "result = seta | setb\n",
    "print(len(result))"
   ]
  },
  {
   "attachments": {},
   "cell_type": "markdown",
   "metadata": {},
   "source": [
    "Set .intersection() Operation"
   ]
  },
  {
   "cell_type": "code",
   "execution_count": null,
   "metadata": {},
   "outputs": [],
   "source": [
    "# Enter your code here. Read input from STDIN. Print output to STDOUT\n",
    "\n",
    "a = input()\n",
    "seta = set(map(int, input().split()))\n",
    "\n",
    "b = input()\n",
    "setb = set(map(int, input().split()))\n",
    "\n",
    "# result = seta.intersection(setb)\n",
    "result = seta & setb\n",
    "print(len(result))"
   ]
  },
  {
   "attachments": {},
   "cell_type": "markdown",
   "metadata": {},
   "source": [
    "Set .difference() Operation"
   ]
  },
  {
   "cell_type": "code",
   "execution_count": null,
   "metadata": {},
   "outputs": [],
   "source": [
    "# Enter your code here. Read input from STDIN. Print output to STDOUT\n",
    "a = input()\n",
    "seta = set(map(int, input().split()))\n",
    "\n",
    "b = input()\n",
    "setb = set(map(int, input().split()))\n",
    "\n",
    "# result = seta.difference(setb)\n",
    "result = seta - setb\n",
    "print(len(result))"
   ]
  },
  {
   "attachments": {},
   "cell_type": "markdown",
   "metadata": {},
   "source": [
    "Set .symmetric_difference() Operation"
   ]
  },
  {
   "cell_type": "code",
   "execution_count": null,
   "metadata": {},
   "outputs": [],
   "source": [
    "# Enter your code here. Read input from STDIN. Print output to STDOUT\n",
    "# Enter your code here. Read input from STDIN. Print output to STDOUT\n",
    "a = input()\n",
    "seta = set(map(int, input().split()))\n",
    "\n",
    "b = input()\n",
    "setb = set(map(int, input().split()))\n",
    "\n",
    "# result = seta.symmetric_difference(setb)\n",
    "result = seta ^ setb\n",
    "print(len(result))"
   ]
  },
  {
   "attachments": {},
   "cell_type": "markdown",
   "metadata": {},
   "source": [
    "Set Mutations"
   ]
  },
  {
   "cell_type": "code",
   "execution_count": null,
   "metadata": {},
   "outputs": [],
   "source": [
    "# Enter your code here. Read input from STDIN. Print output to STDOUT\n",
    "n = int(input())\n",
    "s = set(map(int, input().split()))\n",
    "\n",
    "num = int(input())\n",
    "\n",
    "for i in range(num):\n",
    "    inp = input().split()\n",
    "    \n",
    "    if inp[0] == 'intersection_update':\n",
    "        s &= set(map(int, input().split()))\n",
    "    elif inp[0] == 'update':\n",
    "        s |= set(map(int, input().split()))\n",
    "    elif inp[0] == 'symmetric_difference_update':\n",
    "        s ^= set(map(int, input().split()))\n",
    "    elif inp[0] == 'difference_update':\n",
    "        s -= set(map(int, input().split()))\n",
    "\n",
    "print(sum(s))"
   ]
  },
  {
   "attachments": {},
   "cell_type": "markdown",
   "metadata": {},
   "source": [
    "The Captain's Room"
   ]
  },
  {
   "cell_type": "code",
   "execution_count": null,
   "metadata": {},
   "outputs": [],
   "source": [
    "group_members = int(input())\n",
    "member_list   = list(map(int, input().split()))\n",
    "\n",
    "# print(group_members)\n",
    "# print(member_list)\n",
    "print((sum(set(member_list))*group_members - sum(member_list))//(group_members-1))"
   ]
  },
  {
   "attachments": {},
   "cell_type": "markdown",
   "metadata": {},
   "source": [
    "Check Subset"
   ]
  },
  {
   "cell_type": "code",
   "execution_count": null,
   "metadata": {},
   "outputs": [],
   "source": [
    "# Enter your code here. Read input from STDIN. Print output to STDOUT\n",
    "num_cases = int(input())\n",
    "\n",
    "for i in range(num_cases):\n",
    "    input()\n",
    "    sata = set(map(int, input().split()))\n",
    "    input()\n",
    "    setb = set(map(int, input().split()))\n",
    "    \n",
    "    print(sata.issubset(setb))"
   ]
  },
  {
   "attachments": {},
   "cell_type": "markdown",
   "metadata": {},
   "source": [
    "Check Strict Superset"
   ]
  },
  {
   "cell_type": "code",
   "execution_count": null,
   "metadata": {},
   "outputs": [],
   "source": [
    "# Enter your code here. Read input from STDIN. Print output to STDOUT\n",
    "seta = set(map(int, (input().split())))  \n",
    "\n",
    "num_sets = int(input())\n",
    "is_all_subset = set()\n",
    "for i in range(num_sets):\n",
    "    set_cur = set(map(int, (input().split())))    \n",
    "    is_all_subset.add(seta.issuperset(set_cur))\n",
    "\n",
    "print(all(is_all_subset))"
   ]
  },
  {
   "attachments": {},
   "cell_type": "markdown",
   "metadata": {},
   "source": [
    "No Idea!"
   ]
  },
  {
   "cell_type": "code",
   "execution_count": null,
   "metadata": {},
   "outputs": [],
   "source": [
    "# Enter your code here. Read input from STDIN. Print output to STDOUT\n",
    "input()\n",
    "check_list = list(map(int, input().split()))\n",
    "\n",
    "seta = set(map(int, input().split()))\n",
    "setb = set(map(int, input().split()))\n",
    "happiness = 0\n",
    "for i in check_list:\n",
    "    if i in seta:\n",
    "        happiness += 1\n",
    "    if {i}.issubset(setb):\n",
    "        happiness -= 1\n",
    "print(happiness)"
   ]
  }
 ],
 "metadata": {
  "language_info": {
   "name": "python"
  },
  "orig_nbformat": 4
 },
 "nbformat": 4,
 "nbformat_minor": 2
}
