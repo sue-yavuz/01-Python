{
 "cells": [
  {
   "attachments": {},
   "cell_type": "markdown",
   "metadata": {},
   "source": [
    "itertools.combinations_with_replacement()"
   ]
  },
  {
   "cell_type": "code",
   "execution_count": null,
   "metadata": {},
   "outputs": [],
   "source": [
    "# Enter your code here. Read input from STDIN. Print output to STDOUT\n",
    "from itertools import combinations_with_replacement\n",
    "x = input().split()\n",
    "result = list(combinations_with_replacement(sorted(x[0]),int(x[1])))\n",
    "print(*map(''.join, result),sep='\\n')"
   ]
  },
  {
   "attachments": {},
   "cell_type": "markdown",
   "metadata": {},
   "source": [
    "Compress the String!"
   ]
  },
  {
   "cell_type": "code",
   "execution_count": null,
   "metadata": {},
   "outputs": [],
   "source": [
    "# importing the groupby method\n",
    "from itertools import groupby\n",
    "\n",
    "# using for loop to iterate through the string\n",
    "for k, c in groupby(input()):\n",
    "        \n",
    "    #printing the output\n",
    "    # print(*k,*c)\n",
    "    #print(\"(%d, %d)\" % (len(list(c)), int(k)), end=' ')\n",
    "    #print(\"({:d}, {:d})\".format(len(list(c)), int(k)), end=' ')\n",
    "    print(f\"({len(list(c)):d}, {int(k):d})\", end=' ')"
   ]
  },
  {
   "attachments": {},
   "cell_type": "markdown",
   "metadata": {},
   "source": [
    "itertools.combinations()"
   ]
  },
  {
   "cell_type": "code",
   "execution_count": null,
   "metadata": {},
   "outputs": [],
   "source": [
    "# Enter your code here. Read input from STDIN. Print output to STDOUT\n",
    "from itertools import combinations\n",
    "\n",
    "inp = input().split()\n",
    "msg = sorted(inp[0])\n",
    "num = int(inp[1])\n",
    "\n",
    "# print(msg, num)\n",
    "\n",
    "# for i in range(1, num+1):\n",
    "#     for j in combinations(sorted(msg), i):\n",
    "#         print(\"\".join(j))\n",
    "\n",
    "result = []\n",
    "for i in range(num):\n",
    "    cur = list(combinations(msg, i+1))\n",
    "    result.extend(sorted(map(''.join, cur)))\n",
    "        \n",
    "print(*result, sep='\\n')"
   ]
  },
  {
   "attachments": {},
   "cell_type": "markdown",
   "metadata": {},
   "source": [
    "Iterables and Iterators"
   ]
  },
  {
   "cell_type": "code",
   "execution_count": null,
   "metadata": {},
   "outputs": [],
   "source": [
    "# Enter your code here. Read input from STDIN. Print output to STDOUT\n",
    "n = int(input())\n",
    "s = input().split()\n",
    "k = int(input())\n",
    "\n",
    "# print(n,s,k) \n",
    "\n",
    "from itertools import combinations\n",
    "result = []\n",
    "count = 0\n",
    "cur = list(combinations(sorted(s), k))\n",
    "result.extend(map(''.join, cur))\n",
    "        \n",
    "# print(*result, sep='\\n')\n",
    "\n",
    "for i in result:\n",
    "    if 'a' in i:\n",
    "        count += 1\n",
    "        \n",
    "print(round(count/len(result),3))\n",
    "\n",
    "\n",
    "2.way\n",
    "from itertools import * \n",
    "n = int(input())\n",
    "ls = input().split()\n",
    "k = int(input())\n",
    "com = list(combinations(ls, k))\n",
    "tol = [i for i in com  if \"a\" in i ]\n",
    "print(f'{(len(tol)/len(com)):.12f}')\n",
    "            "
   ]
  },
  {
   "attachments": {},
   "cell_type": "markdown",
   "metadata": {},
   "source": [
    "itertools.product()"
   ]
  },
  {
   "cell_type": "code",
   "execution_count": null,
   "metadata": {},
   "outputs": [],
   "source": [
    "# Enter your code here. Read input from STDIN. Print output to STDOUT\n",
    "from itertools import product\n",
    "a = map(int, input().split())\n",
    "b = map(int, input().split())\n",
    "\n",
    "print(*product(a, b))"
   ]
  },
  {
   "attachments": {},
   "cell_type": "markdown",
   "metadata": {},
   "source": [
    "itertools.permutations()"
   ]
  },
  {
   "cell_type": "code",
   "execution_count": null,
   "metadata": {},
   "outputs": [],
   "source": [
    "from itertools import permutations\n",
    "s,n = input().split()\n",
    "print(*[''.join(i) for i in permutations(sorted(s),int(n))],sep='\\n')"
   ]
  },
  {
   "attachments": {},
   "cell_type": "markdown",
   "metadata": {},
   "source": [
    "Maximize It!"
   ]
  },
  {
   "cell_type": "code",
   "execution_count": null,
   "metadata": {},
   "outputs": [],
   "source": [
    "from itertools import product\n",
    "n,m=map(int,input().split())\n",
    "l=[]\n",
    "\n",
    "for i in range(n):\n",
    "    x=list(map(int,input().split()))[1:]\n",
    "    l.append(x)\n",
    "\n",
    "s=map(lambda x:sum(i*i for i in x)%m,product(*l))\n",
    "print(max(s))"
   ]
  }
 ],
 "metadata": {
  "language_info": {
   "name": "python"
  },
  "orig_nbformat": 4
 },
 "nbformat": 4,
 "nbformat_minor": 2
}
