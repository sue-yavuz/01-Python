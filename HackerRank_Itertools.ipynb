{
 "cells": [
  {
   "attachments": {},
   "cell_type": "markdown",
   "metadata": {},
   "source": [
    "itertools.combinations_with_replacement()"
   ]
  },
  {
   "cell_type": "code",
   "execution_count": null,
   "metadata": {},
   "outputs": [],
   "source": [
    "# Enter your code here. Read input from STDIN. Print output to STDOUT\n",
    "from itertools import combinations_with_replacement\n",
    "x = input().split()\n",
    "result = list(combinations_with_replacement(sorted(x[0]),int(x[1])))\n",
    "print(*map(''.join, result),sep='\\n')"
   ]
  },
  {
   "attachments": {},
   "cell_type": "markdown",
   "metadata": {},
   "source": [
    "Compress the String!"
   ]
  },
  {
   "cell_type": "code",
   "execution_count": null,
   "metadata": {},
   "outputs": [],
   "source": [
    "# importing the groupby method\n",
    "from itertools import groupby\n",
    "\n",
    "# using for loop to iterate through the string\n",
    "for k, c in groupby(input()):\n",
    "        \n",
    "    #printing the output\n",
    "    # print(*k,*c)\n",
    "    #print(\"(%d, %d)\" % (len(list(c)), int(k)), end=' ')\n",
    "    #print(\"({:d}, {:d})\".format(len(list(c)), int(k)), end=' ')\n",
    "    print(f\"({len(list(c)):d}, {int(k):d})\", end=' ')"
   ]
  },
  {
   "attachments": {},
   "cell_type": "markdown",
   "metadata": {},
   "source": [
    "itertools.combinations()"
   ]
  },
  {
   "cell_type": "code",
   "execution_count": null,
   "metadata": {},
   "outputs": [],
   "source": [
    "# Enter your code here. Read input from STDIN. Print output to STDOUT\n",
    "from itertools import combinations\n",
    "\n",
    "inp = input().split()\n",
    "msg = sorted(inp[0])\n",
    "num = int(inp[1])\n",
    "\n",
    "# print(msg, num)\n",
    "\n",
    "# for i in range(1, num+1):\n",
    "#     for j in combinations(sorted(msg), i):\n",
    "#         print(\"\".join(j))\n",
    "\n",
    "result = []\n",
    "for i in range(num):\n",
    "    cur = list(combinations(msg, i+1))\n",
    "    result.extend(sorted(map(''.join, cur)))\n",
    "        \n",
    "print(*result, sep='\\n')"
   ]
  }
 ],
 "metadata": {
  "language_info": {
   "name": "python"
  },
  "orig_nbformat": 4
 },
 "nbformat": 4,
 "nbformat_minor": 2
}
