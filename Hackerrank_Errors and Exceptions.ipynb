{
 "cells": [
  {
   "attachments": {},
   "cell_type": "markdown",
   "metadata": {},
   "source": [
    "Exceptions"
   ]
  },
  {
   "cell_type": "code",
   "execution_count": null,
   "metadata": {},
   "outputs": [],
   "source": [
    "case = int(input())\n",
    "\n",
    "for _ in range(case):\n",
    "    try:\n",
    "        # The try block lets you test a block of code for errors.  \n",
    "        a, b = map(int, input().split())\n",
    "        print(a//b)\n",
    "    \n",
    "    except (ZeroDivisionError, ValueError) as e:\n",
    "        # The except block lets you handle the error.\n",
    "        print(f\"Error Code: {e}\")\n",
    "        \n",
    "    except Exception as e:\n",
    "        # The except block lets you handle the error.\n",
    "        print(f\"Error Code: {e}\")\n",
    "        \n",
    "    else:\n",
    "        # The else block lets you execute code when there is no error.\n",
    "        pass\n",
    "        \n",
    "    finally:\n",
    "        # The finally block lets you execute code, regardless of the result of the try- and except blocks.\n",
    "        pass"
   ]
  },
  {
   "cell_type": "markdown",
   "metadata": {},
   "source": []
  },
  {
   "cell_type": "code",
   "execution_count": null,
   "metadata": {},
   "outputs": [],
   "source": []
  }
 ],
 "metadata": {
  "language_info": {
   "name": "python"
  },
  "orig_nbformat": 4
 },
 "nbformat": 4,
 "nbformat_minor": 2
}
