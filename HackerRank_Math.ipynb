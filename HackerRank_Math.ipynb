{
 "cells": [
  {
   "attachments": {},
   "cell_type": "markdown",
   "metadata": {},
   "source": [
    "Polar Coordinates"
   ]
  },
  {
   "cell_type": "code",
   "execution_count": null,
   "metadata": {},
   "outputs": [],
   "source": [
    "# Enter your code here. Read input from STDIN. Print output to STDOUT\n",
    "import cmath\n",
    "z = input()\n",
    "num = complex(z)\n",
    "\n",
    "print(abs(num))\n",
    "print(cmath.phase(num))"
   ]
  },
  {
   "attachments": {},
   "cell_type": "markdown",
   "metadata": {},
   "source": [
    "Find Angle MBC"
   ]
  },
  {
   "cell_type": "code",
   "execution_count": null,
   "metadata": {},
   "outputs": [],
   "source": [
    "# importing math\n",
    "import math\n",
    "\n",
    "# taking inputs\n",
    "a = int(input())\n",
    "b = int(input())\n",
    "\n",
    "# finding distace and angle\n",
    "M = math.sqrt(a**2+b**2)\n",
    "theta = math.acos(b/M )\n",
    "\n",
    "# printing the angle\n",
    "print(int(round(math.degrees(theta),0)),'\\u00B0',sep='')"
   ]
  },
  {
   "attachments": {},
   "cell_type": "markdown",
   "metadata": {},
   "source": [
    "Triangle Quest 2"
   ]
  },
  {
   "cell_type": "code",
   "execution_count": null,
   "metadata": {},
   "outputs": [],
   "source": [
    "for i in range(1,int(input())+1): #More than 2 lines will result in 0 score. Do not leave a blank line also\n",
    "     print ((((10**i)-1)//(9))**2);\n",
    "\n",
    "# other solution but doesn't run ..!\n",
    "# list1 = []\n",
    "# for i in range(1,int(input())+1): #More than 2 lines will result in 0 score. Do not leave a blank line also\n",
    "#     num = list(range(1, i+1))\n",
    "#     num = num[:-1] + num[::-1]\n",
    "#     cur = ''.join(map(str, num))\n",
    "#     cur = int(cur)\n",
    "#     list1.append(cur)\n",
    "    \n",
    "# print(*list1, sep='\\n')"
   ]
  },
  {
   "attachments": {},
   "cell_type": "markdown",
   "metadata": {},
   "source": [
    "Mod Divmod"
   ]
  },
  {
   "cell_type": "code",
   "execution_count": null,
   "metadata": {},
   "outputs": [],
   "source": [
    "# Enter your code here. Read input from STDIN. Print output to STDOUT\n",
    "a = int(input())\n",
    "b = int(input())\n",
    "\n",
    "print(a//b, a%b,divmod(a,b), sep='\\n')"
   ]
  },
  {
   "attachments": {},
   "cell_type": "markdown",
   "metadata": {},
   "source": [
    "Power - Mod Power"
   ]
  },
  {
   "cell_type": "code",
   "execution_count": null,
   "metadata": {},
   "outputs": [],
   "source": [
    "# Enter your code here. Read input from STDIN. Print output to STDOUT\n",
    "\n",
    "a = int(input())\n",
    "b = int(input())\n",
    "m = int(input())\n",
    "\n",
    "print(pow(a,b),pow(a,b,m), sep='\\n')"
   ]
  }
 ],
 "metadata": {
  "language_info": {
   "name": "python"
  },
  "orig_nbformat": 4
 },
 "nbformat": 4,
 "nbformat_minor": 2
}
