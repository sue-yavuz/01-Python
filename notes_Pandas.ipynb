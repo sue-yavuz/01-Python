{
 "cells": [
  {
   "attachments": {},
   "cell_type": "markdown",
   "metadata": {},
   "source": [
    "Use the following list to convert the dataframe index df to characters and assign it to df_new; find the element corresponding to the row index a and column 'Artist'. Then select the rows a through d for the column 'Artist'"
   ]
  },
  {
   "cell_type": "code",
   "execution_count": null,
   "metadata": {},
   "outputs": [],
   "source": [
    "new_index=['a','b','c','d','e','f','g','h']\n",
    "df_new=df\n",
    "df_new.index=new_index\n",
    "df_new.loc['a', 'Artist']\n",
    "df_new.loc['a':'d', 'Artist']"
   ]
  },
  {
   "attachments": {},
   "cell_type": "markdown",
   "metadata": {},
   "source": [
    "a    Michael Jackson\n",
    "b              AC/DC\n",
    "c         Pink Floyd\n",
    "d    Whitney Houston\n",
    "Name: Artist, dtype: object"
   ]
  },
  {
   "cell_type": "markdown",
   "metadata": {},
   "source": []
  }
 ],
 "metadata": {
  "language_info": {
   "name": "python"
  },
  "orig_nbformat": 4
 },
 "nbformat": 4,
 "nbformat_minor": 2
}
